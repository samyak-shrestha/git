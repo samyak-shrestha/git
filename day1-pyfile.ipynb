{
 "cells": [
  {
   "cell_type": "markdown",
   "id": "33ff026a-9f72-4d88-8629-8040780153b4",
   "metadata": {},
   "source": [
    "# Git and GitHub Learning Guide"
   ]
  },
  {
   "cell_type": "markdown",
   "id": "338564f0-6217-4186-85d0-5cfbc92f2079",
   "metadata": {},
   "source": [
    "## 📅 Day 1 – Git Basics & Local Setup\n",
    "**Theme:** Getting Started with Git and SSH"
   ]
  },
  {
   "cell_type": "markdown",
   "id": "70885af2-d213-4cf4-886c-e514dcec70e6",
   "metadata": {},
   "source": [
    "### 🔧 Topics Covered\n",
    "- Introduction to Version Control\n",
    "- Installing Git and VS Code\n",
    "- Basic Git Workflow\n",
    "  - `git init`, `git status`, `git add`, `git commit`\n",
    "- Understanding Repositories (Local vs Remote)\n",
    "- Setting up GitHub Account\n",
    "- Setting up SSH Keys\n",
    "  - Why SSH is important\n",
    "  - Generating SSH keys\n",
    "  - Adding SSH key to GitHub\n",
    "  - Verifying SSH connection\n",
    "- Connecting local repo to GitHub using SSH\n",
    "- Pushing first commit using `git remote` and `git push`"
   ]
  },
  {
   "cell_type": "markdown",
   "id": "13793c66-aa5d-4d3a-8512-307df85d593e",
   "metadata": {},
   "source": [
    "### ✅ Setup & Configuration\n",
    "```bash\n",
    "git config --global user.name \"Your Name\"\n",
    "git config --global user.email \"you@example.com\""
   ]
  },
  {
   "cell_type": "markdown",
   "id": "5e3d0b0d-8193-4e74-b984-7374dfc7ad60",
   "metadata": {},
   "source": [
    "### 🗂️ Initialize Repository\n",
    "```bash\n",
    "git init\n",
    "```"
   ]
  },
  {
   "cell_type": "markdown",
   "id": "b3b4da05-3a8d-4530-b53c-c7254632aa6e",
   "metadata": {},
   "source": [
    "### 📂 Stage & Commit Changes\n",
    "```bash\n",
    "git status\n",
    "git add .          # Stage all changes\n",
    "git add filename   # Stage specific file\n",
    "git commit -m \"Your commit message\"\n",
    "```"
   ]
  },
  {
   "cell_type": "markdown",
   "id": "b5cc08f8-a11c-430f-996c-a240a14bcf3b",
   "metadata": {},
   "source": [
    "### 🌐 Connect to Remote (GitHub)\n",
    "```bash\n",
    "git remote add origin git@github.com:username/repo.git\n",
    "git push -u origin main   # First time push\n",
    "```"
   ]
  },
  {
   "cell_type": "markdown",
   "id": "25090563-1650-402a-97c9-a58afc4df263",
   "metadata": {},
   "source": [
    "### 🔐 Generate and Add SSH Key\n",
    "```bash\n",
    "ssh-keygen -t ed25519 -C \"you@example.com\"\n",
    "\n",
    "cat ~/.ssh/id_ed25519.pub\n",
    "```"
   ]
  },
  {
   "cell_type": "markdown",
   "id": "c9b9399d-f423-4add-b1a1-e8982fe1bafe",
   "metadata": {},
   "source": [
    "##### Copy the output and add to GitHub → Settings → SSH and GPG Keys"
   ]
  },
  {
   "cell_type": "markdown",
   "id": "5dca3fe4-1e6a-4ab1-a34b-b216650453b3",
   "metadata": {},
   "source": [
    "### 🔍 Test SSH Connection\n",
    "```bash\n",
    "ssh -T git@github.com\n",
    "```"
   ]
  }
 ],
 "metadata": {
  "kernelspec": {
   "display_name": "Python 3 (ipykernel)",
   "language": "python",
   "name": "python3"
  },
  "language_info": {
   "codemirror_mode": {
    "name": "ipython",
    "version": 3
   },
   "file_extension": ".py",
   "mimetype": "text/x-python",
   "name": "python",
   "nbconvert_exporter": "python",
   "pygments_lexer": "ipython3",
   "version": "3.13.2"
  }
 },
 "nbformat": 4,
 "nbformat_minor": 5
}
